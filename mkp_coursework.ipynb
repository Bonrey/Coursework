{
  "nbformat": 4,
  "nbformat_minor": 0,
  "metadata": {
    "colab": {
      "name": "Курсовая(3 курс, мультиразмерный рюкзак).ipynb",
      "provenance": [],
      "collapsed_sections": [
        "m8GpA6R_r96t"
      ],
      "toc_visible": true
    },
    "kernelspec": {
      "name": "python3",
      "display_name": "Python 3"
    },
    "language_info": {
      "name": "python"
    }
  },
  "cells": [
    {
      "cell_type": "markdown",
      "metadata": {
        "id": "k_k09gCSoHGf"
      },
      "source": [
        "# Проект на тему “Методы решения задачи о ранце со многими ограничениями”"
      ]
    },
    {
      "cell_type": "markdown",
      "metadata": {
        "id": "qPBxXjdBoUdX"
      },
      "source": [
        "## Полиномиальный приблизительный алгоритм"
      ]
    },
    {
      "cell_type": "markdown",
      "metadata": {
        "id": "xCgMgwLxsssv"
      },
      "source": [
        "### GREEDYS"
      ]
    },
    {
      "cell_type": "code",
      "metadata": {
        "id": "wngjJvmDpUMx"
      },
      "source": [
        "def greedys(n, p, w, z, y, i, c):\n",
        "  for j in range(n):\n",
        "    if y[j] == -1 and w[j] <= c:\n",
        "      y[j] = i\n",
        "      c -= w[j]\n",
        "      z += p[j]\n",
        "  return z, y"
      ],
      "execution_count": null,
      "outputs": []
    },
    {
      "cell_type": "markdown",
      "metadata": {
        "id": "aEEJrMSICf_U"
      },
      "source": [
        "### Опциональная функция для контроля работы алгоритма"
      ]
    },
    {
      "cell_type": "code",
      "metadata": {
        "id": "rU5svwOPClef"
      },
      "source": [
        "def test_current_step(step, z, y):\n",
        "  print('Step:', step)\n",
        "  print('z =', z)\n",
        "  print('y =', y)\n",
        "  print()"
      ],
      "execution_count": null,
      "outputs": []
    },
    {
      "cell_type": "markdown",
      "metadata": {
        "id": "McPHQLAfs0vm"
      },
      "source": [
        "### MTHM"
      ]
    },
    {
      "cell_type": "code",
      "metadata": {
        "id": "3Gru3fZtnz93"
      },
      "source": [
        "import timeit\n",
        "\n",
        "def MTHM(n, m, p, w, c):\n",
        "\n",
        "  starttime = timeit.default_timer()\n",
        "\n",
        "  # initial solution\n",
        "  z = 0\n",
        "  y = [-1 for j in range(n)]\n",
        "  for i in range(m):\n",
        "    z, y = greedys(n, p, w, z, y, i, c[i]) # нет смысла заводить C штрих, так как каждый раз подается c[i], который изменяется в greedys, но не возвращается\n",
        "\n",
        "  # test_current_step(1, z, y)\n",
        "\n",
        "  # rearrangement\n",
        "  z = 0\n",
        "  c_modified = c.copy()\n",
        "  i = 0\n",
        "  for j in range(n - 1, -1, -1):\n",
        "    if y[j] > -1:\n",
        "      l = -1\n",
        "      for k in range(i, m): # странный момент псевдокода\n",
        "        if w[j] <= c_modified[k]:\n",
        "          l = k\n",
        "          break\n",
        "      if l == -1:\n",
        "        for k in range(0, i):\n",
        "          if w[j] <= c_modified[k]:\n",
        "            l = k\n",
        "            break\n",
        "      if l == -1:\n",
        "        y[j] = -1\n",
        "      else:\n",
        "        y[j] = l\n",
        "        c_modified[l] -= w[j]\n",
        "        z += p[j]\n",
        "        if l < m:\n",
        "          i = l + 1\n",
        "        else:\n",
        "          i = 0\n",
        "  for i in range(m):\n",
        "    z, y = greedys(n, p, w, z, y, i, c_modified[i])\n",
        "  \n",
        "  # test_current_step(2, z, y)\n",
        "  \n",
        "  # first improvement\n",
        "  for j in range(n):\n",
        "    if y[j] > -1:\n",
        "      for k in range(j + 1, n):\n",
        "        if -1 < y[k] and y[k] != y[j]:\n",
        "          if w[j] > w[k]:\n",
        "            h = j\n",
        "            l = k\n",
        "          else:\n",
        "            h = k\n",
        "            l = j\n",
        "          d = w[h] - w[l]\n",
        "          min_w = -1\n",
        "          for ii in range(n):\n",
        "            if y[ii] == -1:\n",
        "              if min_w == -1 or min_w > w[ii]:\n",
        "                min_w = w[ii]\n",
        "          if d <= c_modified[y[l]] and c_modified[y[h]] + d >= min_w:\n",
        "            max_p = -1\n",
        "            for ii in range(n):\n",
        "              if y[ii] == -1 and w[ii] <= c_modified[y[h]] + d:\n",
        "                if max_p == -1 or max_p < p[ii]:\n",
        "                  max_p = p[ii]\n",
        "                  t = ii\n",
        "            c_modified[y[h]] = c_modified[y[h]] + d - w[t]\n",
        "            c_modified[y[l]] -= d\n",
        "            y[t] = y[h]\n",
        "            y[h] = y[l]\n",
        "            y[l] = y[t]\n",
        "            z += p[t]\n",
        "  \n",
        "  # test_current_step(3, z, y)\n",
        "  \n",
        "  # second improvement\n",
        "  for j in range(n - 1, -1, -1):\n",
        "    if y[j] > -1:\n",
        "      c_temp = c_modified[y[j]] + w[j]\n",
        "      Y = list()\n",
        "      for k in range(n):\n",
        "        if y[k] == -1 and w[k] <= c_temp:\n",
        "          Y.append(k)\n",
        "          c_temp -= w[k]\n",
        "      sum_of_Y_elems = 0\n",
        "      for el in Y:\n",
        "        sum_of_Y_elems += p[el]\n",
        "      if sum_of_Y_elems > p[j]:\n",
        "        for el in Y:\n",
        "          y[el] = y[j]\n",
        "        c_modified[y[j]] = c_temp\n",
        "        y[j] = -1\n",
        "        z += sum_of_Y_elems - p[j]\n",
        "\n",
        "  return z, y, timeit.default_timer() - starttime\n",
        "  "
      ],
      "execution_count": null,
      "outputs": []
    },
    {
      "cell_type": "markdown",
      "metadata": {
        "id": "xo4Qq3sHpnBI"
      },
      "source": [
        "### Проверка работы алгоритма"
      ]
    },
    {
      "cell_type": "code",
      "metadata": {
        "id": "NJZVYP5PV9lt"
      },
      "source": [
        "def test_MTHM_with_print(n, m, p, w, c):\n",
        "  max_price, best_permutation, necessary_time = MTHM(n, m, p, w, c)\n",
        "\n",
        "  print('Best permutation:')\n",
        "  best_permutation = list(best_permutation)\n",
        "  for i in range(m):\n",
        "    knapsack = []\n",
        "    for j in range(n):\n",
        "      if best_permutation[j] == i:\n",
        "        knapsack.append(1)\n",
        "      else:\n",
        "        knapsack.append(0)\n",
        "    print(i + 1, 'knapsack:', knapsack)\n",
        "\n",
        "  print('Price of best permutation:', max_price)\n",
        "\n",
        "  # При больших m и n слишком долго запускать алгоритм 10 раз, тем не менее удалось выяснить, что разброс по времени выполнения у алгоритмов небольшой\n",
        "\n",
        "  total_time = necessary_time\n",
        "  number_of_runs = 10\n",
        "  for i in range(number_of_runs - 1):\n",
        "    total_time += MTHM(n, m, p, w, c)[2]\n",
        "  necessary_time = total_time / number_of_runs\n",
        "  print('Average time:', necessary_time)\n",
        "\n",
        "  return max_price, necessary_time"
      ],
      "execution_count": null,
      "outputs": []
    },
    {
      "cell_type": "code",
      "metadata": {
        "colab": {
          "base_uri": "https://localhost:8080/"
        },
        "id": "l_GPHMRJo8sA",
        "outputId": "05a7de7e-44b6-4db0-c60e-cb706d530244"
      },
      "source": [
        "n = 10 # число предметов\n",
        "m = 2 # число рюкзаков\n",
        "p = [78, 35, 89, 36, 94, 75, 74, 79, 80, 16] # ценности предметов\n",
        "w = [18, 9, 23, 20, 59, 61, 70, 75, 76, 30] # массы предметов\n",
        "c = [103, 156] # размеры рюкзаков\n",
        "\n",
        "algo_results = {}\n",
        "\n",
        "algo_results['first_algo_res_first_test'], algo_results['first_algo_time_first_test'] = test_MTHM_with_print(n, m, p, w, c)\n",
        "\n",
        "# Вывод искомого алгоритма без обработки: (423, [1, 0, 1, 1, 0, 1, -1, -1, -1, 0])"
      ],
      "execution_count": null,
      "outputs": [
        {
          "output_type": "stream",
          "text": [
            "Best permutation:\n",
            "1 knapsack: [0, 1, 0, 0, 1, 0, 0, 0, 0, 1]\n",
            "2 knapsack: [1, 0, 1, 1, 0, 1, 0, 0, 0, 0]\n",
            "Price of best permutation: 423\n",
            "Average time: 8.772079997925175e-05\n"
          ],
          "name": "stdout"
        }
      ]
    },
    {
      "cell_type": "code",
      "metadata": {
        "colab": {
          "base_uri": "https://localhost:8080/"
        },
        "id": "nr1cQ7aBqE4r",
        "outputId": "0c9a72f5-edda-4827-968d-9da95aa257bd"
      },
      "source": [
        "n = 9\n",
        "m = 2\n",
        "p = [80, 20, 60, 40, 60, 60, 65, 25, 30]\n",
        "w = [40, 10, 40, 30, 50, 50, 55, 25, 40]\n",
        "c = [100, 150]\n",
        "\n",
        "algo_results['first_algo_res_second_test'], algo_results['first_algo_time_second_test'] = test_MTHM_with_print(n, m, p, w, c)\n",
        "\n",
        "# Вывод искомого алгоритма без обработки: (350, [0, 0, 1, 1, -1, 0, 1, 1, -1])"
      ],
      "execution_count": null,
      "outputs": [
        {
          "output_type": "stream",
          "text": [
            "Best permutation:\n",
            "1 knapsack: [1, 1, 0, 0, 0, 1, 0, 0, 0]\n",
            "2 knapsack: [0, 0, 1, 1, 0, 0, 1, 1, 0]\n",
            "Price of best permutation: 350\n",
            "Average time: 9.033890003138368e-05\n"
          ],
          "name": "stdout"
        }
      ]
    },
    {
      "cell_type": "code",
      "metadata": {
        "colab": {
          "base_uri": "https://localhost:8080/"
        },
        "id": "Np800AMH-lrE",
        "outputId": "51acddd4-fc8b-4e89-939e-b9e435a97578"
      },
      "source": [
        "n = 6\n",
        "m = 2\n",
        "p = [110, 150, 70, 80, 30, 5]\n",
        "w = [40, 60, 30, 40, 20, 5]\n",
        "c = [65, 85]\n",
        "\n",
        "algo_results['first_algo_res_third_test'], algo_results['first_algo_time_third_test'] = test_MTHM_with_print(n, m, p, w, c)"
      ],
      "execution_count": null,
      "outputs": [
        {
          "output_type": "stream",
          "text": [
            "Best permutation:\n",
            "1 knapsack: [0, 1, 0, 0, 0, 1]\n",
            "2 knapsack: [1, 0, 0, 1, 0, 0]\n",
            "Price of best permutation: 345\n",
            "Average time: 5.234689999724651e-05\n"
          ],
          "name": "stdout"
        }
      ]
    },
    {
      "cell_type": "markdown",
      "metadata": {
        "id": "tXJvUVKwqOJO"
      },
      "source": [
        "## Bound and bound алгоритм"
      ]
    },
    {
      "cell_type": "markdown",
      "metadata": {
        "id": "UQXivimks8XF"
      },
      "source": [
        "### UPPER"
      ]
    },
    {
      "cell_type": "code",
      "metadata": {
        "id": "W3nVWwzpqwm3"
      },
      "source": [
        "def upper(n, m, p, w, c, x_caret, S, i):\n",
        "  sum_1 = 0\n",
        "  sum_2 = 0\n",
        "  for j in S[i]:\n",
        "    sum_1 += w[j] * x_caret[i][j]\n",
        "  for k in range(i + 1, m):\n",
        "    sum_2 += c[k]\n",
        "  c_ = c[i] - sum_1 + sum_2\n",
        "\n",
        "  N = list()\n",
        "  for j in range(n):\n",
        "    all_x_equal_to_0 = True\n",
        "    for k in range(0, i + 1):\n",
        "      if x_caret[k][j] != 0:\n",
        "        all_x_equal_to_0 = False\n",
        "        break\n",
        "    if all_x_equal_to_0 == True:\n",
        "      N.append(j)\n",
        "\n",
        "  w_ = []\n",
        "  p_ = []\n",
        "  for el in N:\n",
        "    w_.append(w[el])\n",
        "    p_.append(p[el])\n",
        "  z = dynamic_method(N, len(N), w_, p_, c_, False)\n",
        "\n",
        "  sum_3 = 0\n",
        "  for k in range(0, i + 1):\n",
        "    for j in S[k]:\n",
        "      sum_3 += p[j] * x_caret[k][j]\n",
        "  U = sum_3 + z\n",
        "\n",
        "  return U"
      ],
      "execution_count": null,
      "outputs": []
    },
    {
      "cell_type": "markdown",
      "metadata": {
        "id": "FRnMG-NHs-on"
      },
      "source": [
        "### LOWER"
      ]
    },
    {
      "cell_type": "code",
      "metadata": {
        "id": "afkQj2c9qwwQ"
      },
      "source": [
        "def lower(n, m, p, w, c, x_caret, S, i):\n",
        "  L = 0\n",
        "  for k in range(0, i + 1):\n",
        "    for j in S[k]:\n",
        "      L += p[j] * x_caret[k][j]\n",
        "  \n",
        "  N_ = list()\n",
        "  for j in range(n):\n",
        "    all_x_equal_to_0 = True\n",
        "    for k in range(0, i + 1):\n",
        "      if x_caret[k][j] != 0:\n",
        "        all_x_equal_to_0 = False\n",
        "        break\n",
        "    if all_x_equal_to_0 == True:\n",
        "      N_.append(j)\n",
        "\n",
        "  N = set(N_) - set(S[i])\n",
        "\n",
        "  sum_1 = 0\n",
        "  for j in S[i]:\n",
        "    sum_1 += w[j] * x_caret[i][j]\n",
        "  c_ = c[i] - sum_1\n",
        "  k = i\n",
        "  x_tilda = [[0 for j in range(n)] for r in range(m)] # m x n\n",
        "  for r in range(m):\n",
        "        for j in range(n):\n",
        "          x_tilda[r][j] = x_caret[r][j]\n",
        "\n",
        "  while k <= m - 1:\n",
        "    w_ = []\n",
        "    p_ = []\n",
        "    for el in N:\n",
        "      w_.append(w[el])\n",
        "      p_.append(p[el])\n",
        "    z, used_indexes = dynamic_method(list(N), len(N), w_, p_, c_, True)\n",
        "    for el in used_indexes:\n",
        "      x_tilda[k][el] = 1\n",
        "\n",
        "    L += z\n",
        "    N_ = set(N_) - set(used_indexes)\n",
        "    N = N_\n",
        "    k += 1\n",
        "    if k != m:\n",
        "      c_ = c[k]\n",
        "\n",
        "  return L, x_tilda"
      ],
      "execution_count": null,
      "outputs": []
    },
    {
      "cell_type": "markdown",
      "metadata": {
        "id": "k3XbcHTytBNz"
      },
      "source": [
        "### MTM"
      ]
    },
    {
      "cell_type": "code",
      "metadata": {
        "id": "2aYyBnNUcgwB"
      },
      "source": [
        "import timeit\n",
        "\n",
        "def MTM(n, m, p, w, c):\n",
        "\n",
        "  starttime = timeit.default_timer()\n",
        "\n",
        "  # initialize\n",
        "  S = [[] for k in range(m)]\n",
        "  x_caret = [[0 for j in range(n)] for k in range(m)]\n",
        "  x = [[0 for j in range(n)] for k in range(m)]\n",
        "  z = 0\n",
        "  i = 0\n",
        "  U = upper(n, m, p, w, c, x_caret, S, i)\n",
        "  UB = U\n",
        "  return_to_2_step = True\n",
        "\n",
        "  # heuristic\n",
        "  while return_to_2_step:\n",
        "    L, x_tilda = lower(n, m, p, w, c, x_caret, S, i)\n",
        "    go_to_backtrack = False\n",
        "    if L > z:\n",
        "      z = L\n",
        "      for k in range(m):\n",
        "        for j in range(n):\n",
        "          x[k][j] = x_caret[k][j]\n",
        "      for k in range(i, m):\n",
        "        for j in range(n):\n",
        "          if x_tilda[k][j] == 1:\n",
        "            x[k][j] = 1\n",
        "      if z == UB:\n",
        "        return z, x, timeit.default_timer() - starttime\n",
        "      if z == U:\n",
        "        go_to_backtrack = True\n",
        "\n",
        "    # define a new current solution\n",
        "    if not go_to_backtrack:\n",
        "      worse_solution_flag = False\n",
        "      while i != m - 1 and not worse_solution_flag:\n",
        "        I = set()\n",
        "        for l in range(n):\n",
        "          if x_tilda[i][l] == 1:\n",
        "            I.add(l)\n",
        "        while len(I) > 0:\n",
        "          j = min(I)\n",
        "          I -= {j}\n",
        "          if j not in S[i]:\n",
        "            S[i].append(j)\n",
        "          x_caret[i][j] = 1\n",
        "          U = upper(n, m, p, w, c, x_caret, S, i)\n",
        "          if U <= z:\n",
        "            worse_solution_flag = True\n",
        "            break\n",
        "        i += 1\n",
        "      if not worse_solution_flag:\n",
        "        i = m - 2\n",
        "      else:\n",
        "        i -= 1\n",
        "\n",
        "    return_to_2_step = False\n",
        "    while i > -1:\n",
        "      while len(S[i]) > 0:\n",
        "        j = S[i][len(S[i]) - 1]\n",
        "        if x_caret[i][j] == 0:\n",
        "          S[i].pop(len(S[i]) - 1)\n",
        "        else:\n",
        "          x_caret[i][j] = 0\n",
        "          U = upper(n, m, p, w, c, x_caret, S, i)\n",
        "          if U > z:\n",
        "            return_to_2_step = True\n",
        "            break\n",
        "      if return_to_2_step:\n",
        "        break\n",
        "      i -= 1\n",
        "\n",
        "  return z, x, timeit.default_timer() - starttime\n"
      ],
      "execution_count": null,
      "outputs": []
    },
    {
      "cell_type": "markdown",
      "metadata": {
        "id": "sSmnXd_ztEHt"
      },
      "source": [
        "### Классическая задача о ранце"
      ]
    },
    {
      "cell_type": "code",
      "metadata": {
        "id": "Ng2M0oBlrbFo"
      },
      "source": [
        "matrix = [] # глобальная переменная, иначе рекурсивная функция будет неоптимальна для использования\n",
        "ans = []"
      ],
      "execution_count": null,
      "outputs": []
    },
    {
      "cell_type": "code",
      "metadata": {
        "id": "pmsDY0QpcBKJ"
      },
      "source": [
        "def dynamic_method(ids, n, weights, p, c, restore_ans, type_of_func = 1):\n",
        "  global matrix, ans\n",
        "  if type_of_func == 1:\n",
        "    restore_answer = restore_answer_with_priority_to_skip_item_if_possible\n",
        "  else:\n",
        "    restore_answer = restore_answer_with_priority_to_take_item_if_possible\n",
        "  matrix = [[0 for j in range(c + 1)] for i in range(n + 1)] # i - сколько предметов задействовали, j - вес рюкзака\n",
        "  ans = []\n",
        "\n",
        "  for i in range(1, n + 1):\n",
        "    for j in range(c + 1):\n",
        "      if weights[i - 1] > j: # сравниваем вес i-го предмета и вместимость рюкзака (чтобы понять можем ли мы вместить туда этот предмет)\n",
        "        matrix[i][j] = matrix[i - 1][j] # если не может, то лучший результат такой же, как и у (i-1) предметов\n",
        "      else:\n",
        "        matrix[i][j] = max(matrix[i - 1][j], matrix[i - 1][j - weights[i - 1]] + p[i - 1]) # если может, то сравниваем показатели если брать и не брать этот предмет\n",
        "\n",
        "  if restore_ans:\n",
        "    restore_answer(n, c, weights)\n",
        "    items = []\n",
        "    for id in ans:\n",
        "      items.append(ids[id - 1])\n",
        "    return matrix[n][c], items\n",
        "  else:\n",
        "    return matrix[n][c]"
      ],
      "execution_count": null,
      "outputs": []
    },
    {
      "cell_type": "code",
      "metadata": {
        "id": "D6xKS_YBrffZ"
      },
      "source": [
        "# в силу того, что порой один и тот же вес можно набрать двумя разными способами, возникают две вариации функции восстановления ответа\n",
        "\n",
        "# вариация восстановления ответа с приоритетом пропуска элемента при возможности не брать его\n",
        "def restore_answer_with_priority_to_skip_item_if_possible(i, j, weights):\n",
        "  global matrix, ans\n",
        "  if matrix[i][j] == 0:\n",
        "    return\n",
        "  if matrix[i - 1][j] == matrix[i][j]:\n",
        "    restore_answer_with_priority_to_skip_item_if_possible(i - 1, j, weights)\n",
        "  else:\n",
        "    restore_answer_with_priority_to_skip_item_if_possible(i - 1, j - weights[i - 1], weights)\n",
        "    ans.append(i)\n",
        "\n",
        "# вариация восстановления ответа с приоритетом добавления элемента в ответ при возможности его вместить\n",
        "def restore_answer_with_priority_to_take_item_if_possible(i, j, weights):\n",
        "  global matrix, ans\n",
        "  if matrix[i][j] == 0:\n",
        "    return\n",
        "  if matrix[i][j] == matrix[i - 1][j - weights[i - 1]] + p[i - 1]:\n",
        "    restore_answer_with_priority_to_take_item_if_possible(i - 1, j - weights[i - 1], weights)\n",
        "    ans.append(i)\n",
        "  else:\n",
        "    restore_answer_with_priority_to_take_item_if_possible(i - 1, j, weights)"
      ],
      "execution_count": null,
      "outputs": []
    },
    {
      "cell_type": "markdown",
      "metadata": {
        "id": "8OV1W1UVaNZj"
      },
      "source": [
        "### Тестирование динамического решения классического рюкзака"
      ]
    },
    {
      "cell_type": "code",
      "metadata": {
        "colab": {
          "base_uri": "https://localhost:8080/"
        },
        "id": "C-xAIAsBe6rN",
        "outputId": "33557bba-a3f4-4fa9-e369-5bb5f160f116"
      },
      "source": [
        "n = 4\n",
        "w = [5, 10, 6, 5]\n",
        "p = [3, 5, 4, 2]\n",
        "c = 14\n",
        "ids = [4, 5, 9, 177]\n",
        "print('Priority to skip item:', dynamic_method(ids, n, w, p, c, True, 1))\n",
        "print('Priority to take item:', dynamic_method(ids, n, w, p, c, True, 0))\n",
        "\n",
        "# Правильный ответ: 7; 1 и 3, то есть 4 и 9."
      ],
      "execution_count": null,
      "outputs": [
        {
          "output_type": "stream",
          "text": [
            "Priority to skip item: (7, [4, 9])\n",
            "Priority to take item: (7, [4, 9])\n"
          ],
          "name": "stdout"
        }
      ]
    },
    {
      "cell_type": "code",
      "metadata": {
        "colab": {
          "base_uri": "https://localhost:8080/"
        },
        "id": "xnkO0VSdWyXH",
        "outputId": "2e66a513-c1ea-4109-966a-accd70977258"
      },
      "source": [
        "n = 5\n",
        "w = [3, 4, 5, 8, 9]\n",
        "p = [1, 6, 4, 7, 6]\n",
        "c = 13\n",
        "ids = [0, 1, 2, 3]\n",
        "print('Priority to skip item:', dynamic_method(ids, n, w, p, c, True, 1))\n",
        "print('Priority to take item:', dynamic_method(ids, n, w, p, c, True, 0))\n",
        "\n",
        "# Правильный ответ: 13; 2 и 4, то есть 1 и 3."
      ],
      "execution_count": null,
      "outputs": [
        {
          "output_type": "stream",
          "text": [
            "Priority to skip item: (13, [1, 3])\n",
            "Priority to take item: (13, [1, 3])\n"
          ],
          "name": "stdout"
        }
      ]
    },
    {
      "cell_type": "code",
      "metadata": {
        "colab": {
          "base_uri": "https://localhost:8080/"
        },
        "id": "A5YraM82oeJb",
        "outputId": "a972a840-dd3b-40b3-e09a-07c4bbeda097"
      },
      "source": [
        "n = 10\n",
        "c = 165\n",
        "w = [23, 31, 29, 44, 53, 38, 63, 85, 89, 82]\n",
        "p = [92, 57, 49, 68, 60, 43, 67, 84, 87, 72]\n",
        "ids = [0, 1, 2, 3, 4, 5, 6, 7, 8, 9]\n",
        "print('Priority to skip item:', dynamic_method(ids, n, w, p, c, True, 1))\n",
        "print('Priority to take item:', dynamic_method(ids, n, w, p, c, True, 0))\n",
        "\n",
        "# Правильный ответ: 309; 1, 2, 3, 4 и 6, то есть 0, 1, 2, 3 и 5."
      ],
      "execution_count": null,
      "outputs": [
        {
          "output_type": "stream",
          "text": [
            "Priority to skip item: (309, [0, 1, 2, 3, 5])\n",
            "Priority to take item: (309, [0, 1, 2, 3, 5])\n"
          ],
          "name": "stdout"
        }
      ]
    },
    {
      "cell_type": "markdown",
      "metadata": {
        "id": "3i-IDz1HYjHD"
      },
      "source": [
        "### Тестирование одной из возникающих неоднозначных ситуаций при выполнении теста №1. Подходят сразу 2 варианта укладки рюкзака, выбранный нами ответ зависит от выбора вариации восстановления ответа."
      ]
    },
    {
      "cell_type": "code",
      "metadata": {
        "colab": {
          "base_uri": "https://localhost:8080/"
        },
        "id": "v9Vd8FI9sNlz",
        "outputId": "7fddb318-6ec1-4344-b637-8afc76254f63"
      },
      "source": [
        "n = 7\n",
        "p = (35, 36, 75, 74, 79, 80, 16) # 35+75+80 = 190 = 36+75+79\n",
        "w = (9, 20, 61, 70, 75, 76, 30) # 9+61+76= 146 < 156; 20+61+75=156;\n",
        "c = (156)\n",
        "ids = [1, 3, 5, 6, 7, 8, 9] \n",
        "\n",
        "print('Priority to skip item:', dynamic_method(ids, n, w, p, c, True, 1))\n",
        "print('Priority to take item:', dynamic_method(ids, n, w, p, c, True, 0))\n",
        "\n",
        "# решение взять 1й 3й и 6й = решение взять 2й 3й и 5й\n",
        "# то есть [1,5,8] = [3,5,7]"
      ],
      "execution_count": null,
      "outputs": [
        {
          "output_type": "stream",
          "text": [
            "Priority to skip item: (190, [3, 5, 7])\n",
            "Priority to take item: (190, [1, 5, 8])\n"
          ],
          "name": "stdout"
        }
      ]
    },
    {
      "cell_type": "markdown",
      "metadata": {
        "id": "MVJPxpFtqfHm"
      },
      "source": [
        "### Проверка работы алгоритма"
      ]
    },
    {
      "cell_type": "code",
      "metadata": {
        "id": "VxSgaAaVU4qu"
      },
      "source": [
        "def test_MTM_with_print(n, m, p, w, c):\n",
        "  max_price, best_permutation, necessary_time = MTM(n, m, p, w, c)\n",
        "\n",
        "  print('Best permutation:')\n",
        "  best_permutation = list(best_permutation)\n",
        "  for i in range(m):\n",
        "    print(i + 1, 'knapsack:', best_permutation[i])\n",
        "\n",
        "  print('Price of best permutation:', max_price)\n",
        "\n",
        "  # При больших m и n слишком долго запускать алгоритм 10 раз, тем не менее удалось выяснить, что разброс по времени выполнения у алгоритмов небольшой\n",
        "\n",
        "  total_time = necessary_time\n",
        "  number_of_runs = 10\n",
        "  for i in range(number_of_runs - 1):\n",
        "    total_time += MTM(n, m, p, w, c)[2]\n",
        "  necessary_time = total_time / number_of_runs\n",
        "  print('Average time:', necessary_time)\n",
        "\n",
        "  return max_price, necessary_time"
      ],
      "execution_count": null,
      "outputs": []
    },
    {
      "cell_type": "code",
      "metadata": {
        "colab": {
          "base_uri": "https://localhost:8080/"
        },
        "id": "pDzg1yg3YqYk",
        "outputId": "e5691f8e-bd1a-4584-b49d-cb3d3f96d1f5"
      },
      "source": [
        "n = 10\n",
        "m = 2\n",
        "p = [78, 35, 89, 36, 94, 75, 74, 79, 80, 16]\n",
        "w = [18, 9, 23, 20, 59, 61, 70, 75, 76, 30]\n",
        "c = [103, 156]\n",
        "\n",
        "algo_results['second_algo_res_first_test'], algo_results['second_algo_time_first_test'] = test_MTM_with_print(n, m, p, w, c)\n",
        "\n",
        "# Вывод искомого алгоритма без обработки: (452, [[1, 0, 1, 0, 0, 1, 0, 0, 0, 0], [0, 0, 0, 1, 1, 0, 0, 0, 1, 0]])"
      ],
      "execution_count": null,
      "outputs": [
        {
          "output_type": "stream",
          "text": [
            "Best permutation:\n",
            "1 knapsack: [1, 0, 1, 0, 0, 1, 0, 0, 0, 0]\n",
            "2 knapsack: [0, 0, 0, 1, 1, 0, 0, 0, 1, 0]\n",
            "Price of best permutation: 452\n",
            "Average time: 0.011779578299979221\n"
          ],
          "name": "stdout"
        }
      ]
    },
    {
      "cell_type": "code",
      "metadata": {
        "colab": {
          "base_uri": "https://localhost:8080/"
        },
        "id": "fhRMLH4UNFtC",
        "outputId": "edbb59e5-7e41-421a-ce8a-39ebe57e22ff"
      },
      "source": [
        "n = 9\n",
        "m = 2\n",
        "p = [80, 20, 60, 40, 60, 60, 65, 25, 30]\n",
        "w = [40, 10, 40, 30, 50, 50, 55, 25, 40]\n",
        "c = [100, 150]\n",
        "\n",
        "algo_results['second_algo_res_second_test'], algo_results['second_algo_time_second_test'] = test_MTM_with_print(n, m, p, w, c)\n",
        "\n",
        "# Вывод искомого алгоритма без обработки: (350, [[1, 1, 0, 0, 1, 0, 0, 0, 0], [0, 0, 1, 1, 0, 0, 1, 1, 0]])"
      ],
      "execution_count": null,
      "outputs": [
        {
          "output_type": "stream",
          "text": [
            "Best permutation:\n",
            "1 knapsack: [1, 1, 0, 0, 1, 0, 0, 0, 0]\n",
            "2 knapsack: [0, 0, 1, 1, 0, 0, 1, 1, 0]\n",
            "Price of best permutation: 350\n",
            "Average time: 0.006739554499995392\n"
          ],
          "name": "stdout"
        }
      ]
    },
    {
      "cell_type": "code",
      "metadata": {
        "colab": {
          "base_uri": "https://localhost:8080/"
        },
        "id": "QIlYGz7A-fnU",
        "outputId": "07a48a94-bdfe-4b92-f860-2ded377631fd"
      },
      "source": [
        "n = 6\n",
        "m = 2\n",
        "p = [110, 150, 70, 80, 30, 5]\n",
        "w = [40, 60, 30, 40, 20, 5]\n",
        "c = [65, 85]\n",
        "\n",
        "algo_results['second_algo_res_third_test'], algo_results['second_algo_time_third_test'] = test_MTM_with_print(n, m, p, w, c)"
      ],
      "execution_count": null,
      "outputs": [
        {
          "output_type": "stream",
          "text": [
            "Best permutation:\n",
            "1 knapsack: [0, 1, 0, 0, 0, 1]\n",
            "2 knapsack: [1, 0, 0, 1, 0, 0]\n",
            "Price of best permutation: 345\n",
            "Average time: 0.01753894280006989\n"
          ],
          "name": "stdout"
        }
      ]
    },
    {
      "cell_type": "markdown",
      "metadata": {
        "id": "0XbtCLyuvn9b"
      },
      "source": [
        "## Перебор всех возможных вариантов укладки"
      ]
    },
    {
      "cell_type": "markdown",
      "metadata": {
        "id": "nx2-znBHAnpb"
      },
      "source": [
        "### Время, необходмое для генерации перестановки длины X"
      ]
    },
    {
      "cell_type": "code",
      "metadata": {
        "id": "PnxF5N7TvuTb"
      },
      "source": [
        "from itertools import product\n",
        "import time\n",
        "\n",
        "def time_to_generate_all_permutations_with_repetitions(size):\n",
        "  start = time.time()\n",
        "  #print('Permutations with repetitions:')\n",
        "  #print(list(product([0, 1], repeat=size)))\n",
        "  for el in product([0, 1], repeat=size):\n",
        "    pass\n",
        "  end = time.time()\n",
        "  print('Time:', end - start)"
      ],
      "execution_count": null,
      "outputs": []
    },
    {
      "cell_type": "code",
      "metadata": {
        "colab": {
          "base_uri": "https://localhost:8080/"
        },
        "id": "ow4F2kB02PUq",
        "outputId": "10b4a1f3-338e-428c-f555-377ef012af66"
      },
      "source": [
        "time_to_generate_all_permutations_with_repetitions(10)"
      ],
      "execution_count": null,
      "outputs": [
        {
          "output_type": "stream",
          "text": [
            "Time: 0.00010228157043457031\n"
          ],
          "name": "stdout"
        }
      ]
    },
    {
      "cell_type": "code",
      "metadata": {
        "colab": {
          "base_uri": "https://localhost:8080/"
        },
        "id": "9_3SdBeF4aCA",
        "outputId": "ce6e4a5f-242c-4e24-8de1-d622af2f1fbe"
      },
      "source": [
        "time_to_generate_all_permutations_with_repetitions(20)"
      ],
      "execution_count": null,
      "outputs": [
        {
          "output_type": "stream",
          "text": [
            "Time: 0.1273057460784912\n"
          ],
          "name": "stdout"
        }
      ]
    },
    {
      "cell_type": "markdown",
      "metadata": {
        "id": "p-sYgGxlAxdJ"
      },
      "source": [
        "### Функция для перебора всех возможных вариантов"
      ]
    },
    {
      "cell_type": "code",
      "metadata": {
        "id": "lF9hAEJN2Z-o"
      },
      "source": [
        "from itertools import product\n",
        "\n",
        "def fits(c, w, perm):\n",
        "  sum_of_w = 0\n",
        "  for i in range(len(perm)):\n",
        "    sum_of_w += w[i] * perm[i]\n",
        "    if sum_of_w > c:\n",
        "      return False\n",
        "  return True\n",
        "\n",
        "\n",
        "def check_all_permutations_with_repetitions(n, m, p, w, c):\n",
        "  starttime = timeit.default_timer()\n",
        "  size = n * m\n",
        "  elements = [0, 1]\n",
        "  max_sum = -1\n",
        "  best_perm = []\n",
        "\n",
        "  for perm in product(elements, repeat=size): # перебираем все возможные комбинации 0 и 1\n",
        "    # проверим хватит ли места в рюкзаках\n",
        "    are_fitting = True\n",
        "    for i in range(m):\n",
        "      if fits(c[i], w, perm[i*n : (i+1)*n]) is False:\n",
        "        are_fitting = False\n",
        "        break\n",
        "    if are_fitting is False: # если предметы не влезают в один из рюкзаков переходим к следующей перестановке\n",
        "      continue\n",
        "  \n",
        "    # проверим, что премдет не лежит в разных рюкзаках\n",
        "    are_items_in_diff_knapsacks = False\n",
        "    are_items_in_knapsacks = [] # понадобится для подсчета стоимости предметов в рюкзаках, предполагается, что состоит из 0 и 1\n",
        "    # если в are_items_in_knapsacks попадут значения больше 1, то мы не попадем в !are_in_diff_knapsacks\n",
        "    for i in range(n): # количество предметов в рюкзаке\n",
        "      how_many_knapsacks_the_item_is_in = 0 # в скольки рюкзаках лежит предмет\n",
        "      for j in range(m): # количество рюкзаков\n",
        "        how_many_knapsacks_the_item_is_in += perm[j*n + i]\n",
        "      if how_many_knapsacks_the_item_is_in > 1:\n",
        "        are_items_in_diff_knapsacks = True\n",
        "        break\n",
        "      are_items_in_knapsacks.append(how_many_knapsacks_the_item_is_in)\n",
        "\n",
        "    # предметы лежат в разных рюкзаках и влезают в них\n",
        "    if are_items_in_diff_knapsacks is False:\n",
        "      sum_price = 0\n",
        "      for i in range(n): # количество предметов в рюкзаке\n",
        "        sum_price += are_items_in_knapsacks[i] * p[i]\n",
        "      if sum_price > max_sum:\n",
        "        max_sum = sum_price\n",
        "        best_perm = perm\n",
        "  \n",
        "  return best_perm, max_sum, timeit.default_timer() - starttime\n",
        "        "
      ],
      "execution_count": null,
      "outputs": []
    },
    {
      "cell_type": "markdown",
      "metadata": {
        "id": "4MTjHXzNA4S6"
      },
      "source": [
        "### Проверка функции на тестах предыдущих алгоритмов"
      ]
    },
    {
      "cell_type": "code",
      "metadata": {
        "id": "OIxBtYb1To4t"
      },
      "source": [
        "def test_all_perm_algo_with_print(n, m, p, w, c):\n",
        "  best_permutation, max_price, necessary_time = check_all_permutations_with_repetitions(n, m, p, w, c)\n",
        "\n",
        "  print('Best permutation:')\n",
        "  best_permutation = list(best_permutation)\n",
        "  for i in range(m):\n",
        "    print(i + 1, 'knapsack:', best_permutation[i*n : (i+1)*n])\n",
        "  \n",
        "  print('Price of best permutation:', max_price)\n",
        "\n",
        "  # При больших m и n слишком долго запускать алгоритм 10 раз, тем не менее удалось выяснить, что разброс по времени выполнения у алгоритмов небольшой\n",
        "\n",
        "  total_time = necessary_time\n",
        "  number_of_runs = 10\n",
        "  for i in range(number_of_runs - 1):\n",
        "    total_time += check_all_permutations_with_repetitions(n, m, p, w, c)[2]\n",
        "  necessary_time = total_time / number_of_runs\n",
        "  print('Average time:', necessary_time)\n",
        "\n",
        "  return max_price, necessary_time"
      ],
      "execution_count": null,
      "outputs": []
    },
    {
      "cell_type": "code",
      "metadata": {
        "colab": {
          "base_uri": "https://localhost:8080/"
        },
        "id": "XxMlFB3GwpD-",
        "outputId": "b2f58a53-1cad-4958-c448-7c860aa1f862"
      },
      "source": [
        "n = 10\n",
        "m = 2\n",
        "p = [78, 35, 89, 36, 94, 75, 74, 79, 80, 16]\n",
        "w = [18, 9, 23, 20, 59, 61, 70, 75, 76, 30]\n",
        "c = [103, 156]\n",
        "\n",
        "algo_results['third_algo_res_first_test'], algo_results['third_algo_time_first_test'] = test_all_perm_algo_with_print(n, m, p, w, c)"
      ],
      "execution_count": null,
      "outputs": [
        {
          "output_type": "stream",
          "text": [
            "Best permutation:\n",
            "1 knapsack: [0, 0, 1, 1, 1, 0, 0, 0, 0, 0]\n",
            "2 knapsack: [1, 0, 0, 0, 0, 1, 0, 0, 1, 0]\n",
            "Price of best permutation: 452\n",
            "Average time: 2.092283210999949\n"
          ],
          "name": "stdout"
        }
      ]
    },
    {
      "cell_type": "code",
      "metadata": {
        "colab": {
          "base_uri": "https://localhost:8080/"
        },
        "id": "Xx-y-7s_yLOo",
        "outputId": "d730eeb1-a7fc-45e4-da1f-d55edb2028cf"
      },
      "source": [
        "n = 9\n",
        "m = 2\n",
        "p = [80, 20, 60, 40, 60, 60, 65, 25, 30]\n",
        "w = [40, 10, 40, 30, 50, 50, 55, 25, 40]\n",
        "c = [100, 150]\n",
        "\n",
        "algo_results['third_algo_res_second_test'], algo_results['third_algo_time_second_test'] = test_all_perm_algo_with_print(n, m, p, w, c)"
      ],
      "execution_count": null,
      "outputs": [
        {
          "output_type": "stream",
          "text": [
            "Best permutation:\n",
            "1 knapsack: [0, 1, 1, 0, 0, 1, 0, 0, 0]\n",
            "2 knapsack: [1, 0, 0, 1, 0, 0, 1, 1, 0]\n",
            "Price of best permutation: 350\n",
            "Average time: 0.5682243501000357\n"
          ],
          "name": "stdout"
        }
      ]
    },
    {
      "cell_type": "code",
      "metadata": {
        "colab": {
          "base_uri": "https://localhost:8080/"
        },
        "id": "0T_xviHC-Mqu",
        "outputId": "1e7ed01e-93b2-4d66-8691-a53d9eeac2f5"
      },
      "source": [
        "n = 6\n",
        "m = 2\n",
        "p = [110, 150, 70, 80, 30, 5]\n",
        "w = [40, 60, 30, 40, 20, 5]\n",
        "c = [65, 85]\n",
        "\n",
        "algo_results['third_algo_res_third_test'], algo_results['third_algo_time_third_test'] = test_all_perm_algo_with_print(n, m, p, w, c)"
      ],
      "execution_count": null,
      "outputs": [
        {
          "output_type": "stream",
          "text": [
            "Best permutation:\n",
            "1 knapsack: [0, 1, 0, 0, 0, 0]\n",
            "2 knapsack: [1, 0, 0, 1, 0, 1]\n",
            "Price of best permutation: 345\n",
            "Average time: 0.009350274499956868\n"
          ],
          "name": "stdout"
        }
      ]
    },
    {
      "cell_type": "markdown",
      "metadata": {
        "id": "a9UaBZwhN7sL"
      },
      "source": [
        "## Сравниваем время работы и результаты алгоритмов для тестов из учебника"
      ]
    },
    {
      "cell_type": "code",
      "metadata": {
        "colab": {
          "base_uri": "https://localhost:8080/"
        },
        "id": "gq4XNDhuOBiC",
        "outputId": "4eed156a-a1fd-4e7b-84c3-dc21898b82d9"
      },
      "source": [
        "# Очевидно, что мы работаем с малыми m и n\n",
        "\n",
        "import pandas as pd\n",
        "\n",
        "index = ['MTHM', 'MTM', 'All permutations algorithm']\n",
        "columns = ['Result_1', 'Time_1', 'Result_2', 'Time_2', 'Result_3', 'Time_3']\n",
        "algo_number = ['first', 'second', 'third']\n",
        "test_number = ['first', 'second', 'third']\n",
        "num_of_tests = 3\n",
        "num_of_algo = 3\n",
        "\n",
        "df = pd.DataFrame(0, index=index, columns=columns)\n",
        "\n",
        "for i in range(num_of_algo):\n",
        "  for j in range(1, num_of_tests + 1):\n",
        "    df.loc[index[i], 'Result_' + str(j)] = algo_results[algo_number[i] + '_algo_res_' + test_number[j - 1] + '_test']\n",
        "    df.loc[index[i], 'Time_' + str(j)] = algo_results[algo_number[i] + '_algo_time_' + test_number[j - 1] + '_test']\n",
        "\n",
        "# pd.set_option(\"display.max_rows\", None, \"display.max_columns\", None)\n",
        "print(df.to_string())\n",
        "print()\n",
        "\n",
        "index2 = ['Test_1', 'Test_2', 'Test_3']\n",
        "columns2 = ['n', 'm']\n",
        "n_s = [10, 9, 6]\n",
        "m_s = [2, 2, 2]\n",
        "df2 = pd.DataFrame(0, index=index2, columns=columns2)\n",
        "\n",
        "for i in range(num_of_tests):\n",
        "  df2.loc['Test_' + str(i + 1), 'n'] = n_s[i]\n",
        "  df2.loc['Test_' + str(i + 1), 'm'] = m_s[i]\n",
        "\n",
        "print(df2.to_string())"
      ],
      "execution_count": null,
      "outputs": [
        {
          "output_type": "stream",
          "text": [
            "                            Result_1    Time_1  Result_2    Time_2  Result_3    Time_3\n",
            "MTHM                             423  0.000088       350  0.000090       345  0.000052\n",
            "MTM                              452  0.011780       350  0.006740       345  0.017539\n",
            "All permutations algorithm       452  2.092283       350  0.568224       345  0.009350\n",
            "\n",
            "         n  m\n",
            "Test_1  10  2\n",
            "Test_2   9  2\n",
            "Test_3   6  2\n"
          ],
          "name": "stdout"
        }
      ]
    },
    {
      "cell_type": "markdown",
      "metadata": {
        "id": "FnUr4kOSF26P"
      },
      "source": [
        "## Генерация тестов"
      ]
    },
    {
      "cell_type": "markdown",
      "metadata": {
        "id": "RjJ0EGvxTX-f"
      },
      "source": [
        "### Важно помнить, что алгоритмы работают на отсортированных по ценностям предметах и по размернсти рюкзаках."
      ]
    },
    {
      "cell_type": "code",
      "metadata": {
        "id": "L96eRAYyTcF6"
      },
      "source": [
        "def sorting_by_importance(p, w):\n",
        "  importance = []\n",
        "  for i in range(len(p)):\n",
        "    importance.append((i, p[i]/w[i]))\n",
        "  importance.sort(reverse=True, key = lambda x: x[1])\n",
        "  permutation = [elem[0] for elem in importance]\n",
        "  return [p[i] for i in permutation], [w[i] for i in permutation]"
      ],
      "execution_count": null,
      "outputs": []
    },
    {
      "cell_type": "markdown",
      "metadata": {
        "id": "Mi7-EusBF8tV"
      },
      "source": [
        "### Совершенно разные вместимости рюкзаков"
      ]
    },
    {
      "cell_type": "code",
      "metadata": {
        "id": "941jSNYFAz_s"
      },
      "source": [
        "import random\n",
        "\n",
        "n_list = [10, 15, 20, 25]\n",
        "m_list = [2, 3, 4]\n",
        "\n",
        "tests_dissimilar_capacities = list()\n",
        "\n",
        "for k in range(len(n_list) * len(m_list)):\n",
        "  p = []\n",
        "  w = []\n",
        "  c = []\n",
        "\n",
        "  for i in range(n_list[k % 4]):\n",
        "    p.append(random.randint(1, 1000))\n",
        "    w.append(random.randint(1, 1000))\n",
        "  p, w = sorting_by_importance(p, w)\n",
        "\n",
        "  sum_of_w = sum(w)\n",
        "  for i in range(m_list[k // 4] - 1):\n",
        "    c.append(random.randint(0, round(0.5 * sum_of_w - sum(c))))\n",
        "  c.append(round(0.5 * sum_of_w - sum(c)))\n",
        "  c.sort()\n",
        "\n",
        "  tests_dissimilar_capacities.append([n_list[k % 4], m_list[k // 4], p, w, c])"
      ],
      "execution_count": null,
      "outputs": []
    },
    {
      "cell_type": "code",
      "metadata": {
        "colab": {
          "base_uri": "https://localhost:8080/"
        },
        "id": "yJqaKdbqFKjf",
        "outputId": "e8502d45-81f0-460f-f4cb-baa530fcb324"
      },
      "source": [
        "print(tests_dissimilar_capacities[0])"
      ],
      "execution_count": null,
      "outputs": [
        {
          "output_type": "stream",
          "text": [
            "[10, 2, [961, 982, 266, 671, 951, 263, 359, 244, 287, 212], [38, 48, 66, 241, 631, 177, 483, 462, 879, 757], [395, 1496]]\n"
          ],
          "name": "stdout"
        }
      ]
    },
    {
      "cell_type": "markdown",
      "metadata": {
        "id": "izoxRMRKGrIr"
      },
      "source": [
        "### Похожие вместимости рюкзаков"
      ]
    },
    {
      "cell_type": "code",
      "metadata": {
        "id": "GCARNtG0GDNq"
      },
      "source": [
        "tests_similar_capacities = list()\n",
        "\n",
        "for k in range(len(n_list) * len(m_list)):\n",
        "  p = []\n",
        "  w = []\n",
        "  c = []\n",
        "\n",
        "  for i in range(n_list[k % 4]):\n",
        "    p.append(random.randint(1, 1000))\n",
        "    w.append(random.randint(1, 1000))\n",
        "  p, w = sorting_by_importance(p, w)\n",
        "  \n",
        "  sum_of_w = sum(w)\n",
        "  for i in range(m_list[k // 4] - 1):\n",
        "    c.append(random.randint(round(0.4 * sum_of_w / m_list[k // 4]), round(0.6 * sum_of_w / m_list[k // 4])))\n",
        "  c.append(round(0.5 * sum_of_w - sum(c)))\n",
        "  c.sort()\n",
        "\n",
        "  tests_similar_capacities.append([n_list[k % 4], m_list[k // 4], p, w, c])"
      ],
      "execution_count": null,
      "outputs": []
    },
    {
      "cell_type": "code",
      "metadata": {
        "colab": {
          "base_uri": "https://localhost:8080/"
        },
        "id": "TV15rolrGfqK",
        "outputId": "79a02b77-d8af-41fc-9097-0f29c8c5114d"
      },
      "source": [
        "print(tests_similar_capacities[4])"
      ],
      "execution_count": null,
      "outputs": [
        {
          "output_type": "stream",
          "text": [
            "[10, 3, [523, 828, 735, 758, 617, 661, 708, 121, 582, 464], [51, 183, 229, 699, 606, 810, 950, 164, 947, 961], [898, 907, 995]]\n"
          ],
          "name": "stdout"
        }
      ]
    },
    {
      "cell_type": "markdown",
      "metadata": {
        "id": "C00xaaovH2LN"
      },
      "source": [
        "## Работоспособность алгоритмов на сгенерированных тестах"
      ]
    },
    {
      "cell_type": "markdown",
      "metadata": {
        "id": "v-n0EOpRpBb1"
      },
      "source": [
        "### Работа алгоритмов."
      ]
    },
    {
      "cell_type": "code",
      "metadata": {
        "colab": {
          "base_uri": "https://localhost:8080/"
        },
        "id": "rrOzpw10SzdF",
        "outputId": "406b08c1-0d57-45da-ba1d-c5f9f7741e7d"
      },
      "source": [
        "from datetime import datetime\n",
        "\n",
        "index = [i for i in range(len(n_list) * len(m_list))]\n",
        "columns = ['m', 'n', 'MTHM_sim', 'MTM_sim', 'MTHM_dissim', 'MTM_dissim']\n",
        "\n",
        "df2 = pd.DataFrame(0, index=index, columns=columns)\n",
        "\n",
        "print(\"Current time:\", datetime.now().strftime(\"%H:%M:%S\"))\n",
        "for i in range(len(n_list) * len(m_list)):\n",
        "  input_sim_vals = tests_similar_capacities[i]\n",
        "  input_dissim_vals = tests_dissimilar_capacities[i]\n",
        "  df2.loc[i, 'm'] = tests_similar_capacities[i][1]\n",
        "  df2.loc[i, 'n'] = tests_similar_capacities[i][0]\n",
        "  price, _, time = MTHM(input_sim_vals[0], input_sim_vals[1], input_sim_vals[2], input_sim_vals[3], input_sim_vals[4])\n",
        "  df2.loc[i, columns[2]] = str(time) + '(' + str(price) + ')'\n",
        "  price, _, time = MTM(input_sim_vals[0], input_sim_vals[1], input_sim_vals[2], input_sim_vals[3], input_sim_vals[4])\n",
        "  df2.loc[i, columns[3]] = str(time) + '(' + str(price) + ')'\n",
        "  price, _, time = MTHM(input_dissim_vals[0], input_dissim_vals[1], input_dissim_vals[2], input_dissim_vals[3], input_dissim_vals[4])\n",
        "  df2.loc[i, columns[4]] = str(time) + '(' + str(price) + ')'\n",
        "  price, _, time = MTM(input_dissim_vals[0], input_dissim_vals[1], input_dissim_vals[2], input_dissim_vals[3], input_dissim_vals[4])\n",
        "  df2.loc[i, columns[5]] = str(time) + '(' + str(price) + ')'\n",
        "  print(\"Iteration done:\", i, \"Current time:\", datetime.now().strftime(\"%H:%M:%S\"))\n",
        "\n",
        "print(df2.to_string())"
      ],
      "execution_count": null,
      "outputs": [
        {
          "output_type": "stream",
          "text": [
            "Current time: 19:48:29\n",
            "Iteration done: 0 Current time: 19:48:29\n",
            "Iteration done: 1 Current time: 19:49:31\n",
            "Iteration done: 2 Current time: 19:50:15\n",
            "Iteration done: 3 Current time: 19:50:18\n",
            "Iteration done: 4 Current time: 19:50:18\n",
            "Iteration done: 5 Current time: 19:50:19\n",
            "Iteration done: 6 Current time: 19:50:39\n",
            "Iteration done: 7 Current time: 19:51:04\n",
            "Iteration done: 8 Current time: 19:51:13\n",
            "Iteration done: 9 Current time: 19:51:37\n",
            "Iteration done: 10 Current time: 19:56:34\n",
            "Iteration done: 11 Current time: 20:03:55\n",
            "    m   n                       MTHM_sim                    MTM_sim                    MTHM_dissim                 MTM_dissim\n",
            "0   2  10    6.334299996524351e-05(2842)  0.02178191000029983(2842)    6.170400001792586e-05(4453)  0.01781504100017628(4453)\n",
            "1   2  15      9.3837999884272e-05(6192)    62.10917076700025(6192)   0.00011881599994012504(5251)  0.07638941999994131(5101)\n",
            "2   2  20    0.0002645529998517304(8457)   43.426270691000354(8652)   0.00018695100015975186(7970)  0.12967042799982664(8044)\n",
            "3   2  25    0.0002661640000951593(9967)   2.143708321000304(10055)   0.00023155000008046045(9002)   0.9341224479999255(9128)\n",
            "4   3  10    6.481599984908826e-05(3582)   0.4188603319998947(4243)   5.3559999741992215e-05(3831)  0.06273390399974232(3831)\n",
            "5   3  15   0.00015203300017674337(5614)   0.5953323280000404(5735)   0.00011944000016228529(4777)  0.20627058900026896(5169)\n",
            "6   3  20   0.00019304199986436288(4834)  0.12218853500007754(4872)   0.00020582900015142513(6250)    19.98686778000001(6387)\n",
            "7   3  25  0.00033020399996530614(10369)  12.508091777999653(10626)  0.00032614300016575726(10264)  12.371597406999626(10416)\n",
            "8   4  10    7.124900002963841e-05(3483)    7.381685346999802(3483)      6.6612999944482e-05(4294)   1.3665022320001299(4294)\n",
            "9   4  15   0.00017868600025394699(6474)   20.423528527000144(6188)    0.0001173300001937605(6398)    4.019647384000109(6771)\n",
            "10  4  20    0.0002449229996273061(7788)    282.4637680000001(8167)   0.00016800799994598492(7292)   14.078905797000061(7474)\n",
            "11  4  25  0.00035335100028532906(10404)  435.14807131399994(10813)   0.0003733550001925323(11491)   6.017035412000041(11464)\n"
          ],
          "name": "stdout"
        }
      ]
    },
    {
      "cell_type": "markdown",
      "metadata": {
        "id": "nJDfYMvho3LS"
      },
      "source": [
        "### Работа алгоритмов без сортировки предметов и рюкзаков.\n",
        "\n"
      ]
    },
    {
      "cell_type": "code",
      "metadata": {
        "colab": {
          "base_uri": "https://localhost:8080/"
        },
        "id": "UENGSYZ2H_I9",
        "outputId": "af0c24dd-edf0-4754-f9bb-329a1b00b635"
      },
      "source": [
        "from datetime import datetime\n",
        "\n",
        "index = [i for i in range(len(n_list) * len(m_list))]\n",
        "columns = ['m', 'n', 'MTHM_sim', 'MTM_sim', 'MTHM_dissim', 'MTM_dissim']\n",
        "\n",
        "df2 = pd.DataFrame(0, index=index, columns=columns)\n",
        "\n",
        "print(\"Current time:\", datetime.now().strftime(\"%H:%M:%S\"))\n",
        "for i in range(len(n_list) * len(m_list)): # 12\n",
        "  input_sim_vals = tests_similar_capacities[i]\n",
        "  input_dissim_vals = tests_dissimilar_capacities[i]\n",
        "  price, _, time = MTHM(input_sim_vals[0], input_sim_vals[1], input_sim_vals[2], input_sim_vals[3], input_sim_vals[4])\n",
        "  df2.loc[i, columns[2]] = str(time) + '(' + str(price) + ')'\n",
        "  price, _, time = MTM(input_sim_vals[0], input_sim_vals[1], input_sim_vals[2], input_sim_vals[3], input_sim_vals[4])\n",
        "  df2.loc[i, columns[3]] = str(time) + '(' + str(price) + ')'\n",
        "  price, _, time = MTHM(input_dissim_vals[0], input_dissim_vals[1], input_dissim_vals[2], input_dissim_vals[3], input_dissim_vals[4])\n",
        "  df2.loc[i, columns[4]] = str(time) + '(' + str(price) + ')'\n",
        "  price, _, time = MTM(input_dissim_vals[0], input_dissim_vals[1], input_dissim_vals[2], input_dissim_vals[3], input_dissim_vals[4])\n",
        "  df2.loc[i, columns[5]] = str(time) + '(' + str(price) + ')'\n",
        "  print(\"Iteration done:\", i, \"Current time:\", datetime.now().strftime(\"%H:%M:%S\"))\n",
        "\n",
        "print(df2.to_string())"
      ],
      "execution_count": null,
      "outputs": [
        {
          "output_type": "stream",
          "text": [
            "Current time: 21:09:30\n",
            "Iteration done: 0 Current time: 21:09:31\n",
            "Iteration done: 1 Current time: 21:09:32\n",
            "Iteration done: 2 Current time: 21:10:32\n",
            "Iteration done: 3 Current time: 21:11:03\n",
            "Iteration done: 4 Current time: 21:11:03\n",
            "Iteration done: 5 Current time: 21:11:29\n",
            "Iteration done: 6 Current time: 21:12:48\n",
            "Iteration done: 7 Current time: 21:12:56\n",
            "Iteration done: 8 Current time: 21:13:01\n",
            "Iteration done: 9 Current time: 21:15:43\n",
            "Iteration done: 10 Current time: 22:22:32\n",
            "Iteration done: 11 Current time: 23:31:38\n",
            "    m  n                      MTHM_sim                     MTM_sim                   MTHM_dissim                  MTM_dissim\n",
            "0   0  0   5.726200106437318e-05(2577)    1.0254777779991855(3168)   7.330100197577849e-05(3463)  0.024979212001198903(3765)\n",
            "1   0  0   9.335099821328185e-05(4886)    0.7772602689983614(5631)   9.373500142828561e-05(5497)   0.06686601100227563(6361)\n",
            "2   0  0  0.00022295999951893464(6061)      59.5125773419968(6366)   0.0001940709989867173(8152)    0.1112868130003335(8734)\n",
            "3   0  0   0.0009236429978045635(7231)    30.82943041999897(10009)  0.00018103099864674732(9652)  0.18311185600032331(12570)\n",
            "4   0  0   8.598800195613876e-05(3566)  0.025371366999024758(3566)   6.264500188990496e-05(3373)  0.026804438002727693(3403)\n",
            "5   0  0  0.00012464099927456118(5347)    14.128925872999389(6009)  0.00011496200022520497(2725)    12.523208187001728(3470)\n",
            "6   0  0   0.0002062109997496009(7414)     0.843919034999999(7931)  0.00020299600146245211(6174)     77.38584628799799(6745)\n",
            "7   0  0  0.00034259699896210805(9213)  0.18146389400135376(10021)  0.0002891889998863917(10129)     8.417391482998937(9961)\n",
            "8   0  0   7.795300189172849e-05(3726)     1.511233015000471(3960)    7.11069988028612e-05(2953)     3.192465534000803(2953)\n",
            "9   0  0  0.00017082400154322386(6944)    2.3842847740015713(7109)  0.00012620000052265823(4617)    160.19522338400202(5154)\n",
            "10  0  0   0.0002498909998394083(6768)      486.989442367998(7771)   0.0002614639997773338(8253)     3521.842026487997(8901)\n",
            "11  0  0  0.0004464469966478646(10629)    2341.667493159999(10241)  0.00031280700204661116(8394)    1804.0196026269987(9977)\n"
          ],
          "name": "stdout"
        }
      ]
    },
    {
      "cell_type": "code",
      "metadata": {
        "colab": {
          "base_uri": "https://localhost:8080/"
        },
        "id": "1mWBaBZdPGOc",
        "outputId": "2bf8812e-a019-4e20-a756-bae87b1776a3"
      },
      "source": [
        "for i in range(len(n_list) * len(m_list)):\n",
        "  df2.loc[i, 'm'] = tests_similar_capacities[i][1]\n",
        "  df2.loc[i, 'n'] = tests_similar_capacities[i][0]\n",
        "\n",
        "print(df2.to_string())"
      ],
      "execution_count": null,
      "outputs": [
        {
          "output_type": "stream",
          "text": [
            "    m   n                      MTHM_sim                     MTM_sim                   MTHM_dissim                  MTM_dissim\n",
            "0   2  10   5.726200106437318e-05(2577)    1.0254777779991855(3168)   7.330100197577849e-05(3463)  0.024979212001198903(3765)\n",
            "1   2  15   9.335099821328185e-05(4886)    0.7772602689983614(5631)   9.373500142828561e-05(5497)   0.06686601100227563(6361)\n",
            "2   2  20  0.00022295999951893464(6061)      59.5125773419968(6366)   0.0001940709989867173(8152)    0.1112868130003335(8734)\n",
            "3   2  25   0.0009236429978045635(7231)    30.82943041999897(10009)  0.00018103099864674732(9652)  0.18311185600032331(12570)\n",
            "4   3  10   8.598800195613876e-05(3566)  0.025371366999024758(3566)   6.264500188990496e-05(3373)  0.026804438002727693(3403)\n",
            "5   3  15  0.00012464099927456118(5347)    14.128925872999389(6009)  0.00011496200022520497(2725)    12.523208187001728(3470)\n",
            "6   3  20   0.0002062109997496009(7414)     0.843919034999999(7931)  0.00020299600146245211(6174)     77.38584628799799(6745)\n",
            "7   3  25  0.00034259699896210805(9213)  0.18146389400135376(10021)  0.0002891889998863917(10129)     8.417391482998937(9961)\n",
            "8   4  10   7.795300189172849e-05(3726)     1.511233015000471(3960)    7.11069988028612e-05(2953)     3.192465534000803(2953)\n",
            "9   4  15  0.00017082400154322386(6944)    2.3842847740015713(7109)  0.00012620000052265823(4617)    160.19522338400202(5154)\n",
            "10  4  20   0.0002498909998394083(6768)      486.989442367998(7771)   0.0002614639997773338(8253)     3521.842026487997(8901)\n",
            "11  4  25  0.0004464469966478646(10629)    2341.667493159999(10241)  0.00031280700204661116(8394)    1804.0196026269987(9977)\n"
          ],
          "name": "stdout"
        }
      ]
    },
    {
      "cell_type": "code",
      "metadata": {
        "id": "e_KqEUmWMWjw"
      },
      "source": [
        ""
      ],
      "execution_count": null,
      "outputs": []
    }
  ]
}
